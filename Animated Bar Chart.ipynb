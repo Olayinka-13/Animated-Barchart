{
 "cells": [
  {
   "cell_type": "code",
   "execution_count": 1,
   "id": "9403557b",
   "metadata": {},
   "outputs": [],
   "source": [
    "from sjvisualizer import DataHandler\n",
    "from sjvisualizer import Canvas\n",
    "from sjvisualizer import BarRace\n",
    "from sjvisualizer import PieRace\n",
    "from sjvisualizer import StaticText\n",
    "from sjvisualizer import Date\n",
    "from sjvisualizer import StaticImage\n",
    "import json"
   ]
  },
  {
   "cell_type": "code",
   "execution_count": 2,
   "id": "fa5c8f6d",
   "metadata": {},
   "outputs": [],
   "source": [
    "FPS = 60\n",
    "DURATION = 1\n",
    "BACKGROUND_COLOR = (0, 0, 0)\n",
    "FONT_COLOR = (255,255,255)"
   ]
  },
  {
   "cell_type": "code",
   "execution_count": 3,
   "id": "c9b7d909",
   "metadata": {},
   "outputs": [
    {
     "name": "stdout",
     "output_type": "stream",
     "text": [
      "Loading cashed data frame _pandas_cache\\Nuclear3607.xlsx\n"
     ]
    }
   ],
   "source": [
    "df = DataHandler.DataHandler(excel_file = \"data/Nuclear.xlsx\", number_of_frames=FPS*DURATION*60).df"
   ]
  },
  {
   "cell_type": "code",
   "execution_count": 4,
   "id": "941ca538",
   "metadata": {},
   "outputs": [
    {
     "data": {
      "text/plain": [
       "{'United States': [23, 60, 154],\n",
       " 'Russia': [255, 50, 50],\n",
       " 'China': [200, 62, 95],\n",
       " 'France': [230, 230, 230],\n",
       " 'United Kingdom': [50, 60, 220],\n",
       " 'India': [255, 173, 101],\n",
       " 'Pakistan': [21, 85, 68],\n",
       " 'Israel': [20, 54, 177],\n",
       " 'North Korea': [238, 21, 50],\n",
       " 'South Africa': [20, 55, 172],\n",
       " 'Kazkhstan': [193, 189, 126],\n",
       " 'Ukraine': [255, 213, 0],\n",
       " 'Belarus': [20, 148, 50],\n",
       " 'Lithuania': [20, 113, 76]}"
      ]
     },
     "execution_count": 4,
     "metadata": {},
     "output_type": "execute_result"
    }
   ],
   "source": [
    "with open(\"colors.json\") as f:\n",
    "    colors = json.load(f)\n",
    "    \n",
    "colors"
   ]
  },
  {
   "cell_type": "code",
   "execution_count": 5,
   "id": "3b1b112c",
   "metadata": {},
   "outputs": [],
   "source": [
    "canvas = Canvas.canvas(bg=BACKGROUND_COLOR)"
   ]
  },
  {
   "cell_type": "code",
   "execution_count": 6,
   "id": "e4cc1e4b",
   "metadata": {},
   "outputs": [
    {
     "data": {
      "text/plain": [
       "1"
      ]
     },
     "execution_count": 6,
     "metadata": {},
     "output_type": "execute_result"
    }
   ],
   "source": [
    "canvas.canvas.create_rectangle(-1,-1,1920,1920)"
   ]
  },
  {
   "cell_type": "code",
   "execution_count": 7,
   "id": "63ac0276",
   "metadata": {},
   "outputs": [],
   "source": [
    "bar_race=BarRace.bar_race(canvas=canvas.canvas, df=df, colors=colors, width=1000, height=1000, x_pos=250, back_ground_color = BACKGROUND_COLOR, font_color = FONT_COLOR)"
   ]
  },
  {
   "cell_type": "code",
   "execution_count": 8,
   "id": "c5bb1488",
   "metadata": {},
   "outputs": [
    {
     "name": "stdout",
     "output_type": "stream",
     "text": [
      "No image for Kazkhstan\n"
     ]
    }
   ],
   "source": [
    "canvas.add_sub_plot(bar_race)"
   ]
  },
  {
   "cell_type": "code",
   "execution_count": 9,
   "id": "564b410a",
   "metadata": {},
   "outputs": [],
   "source": [
    "pie_race=PieRace.pie_plot(canvas=canvas.canvas, df=df, colors=colors, width=300, height=300, x_pos=1000, y_pos=700, back_ground_color = BACKGROUND_COLOR, font_color = FONT_COLOR)"
   ]
  },
  {
   "cell_type": "code",
   "execution_count": 10,
   "id": "f2162dc1",
   "metadata": {},
   "outputs": [
    {
     "name": "stdout",
     "output_type": "stream",
     "text": [
      "Loading images for United States\n",
      "Loading images for Russia\n",
      "Loading images for China\n",
      "Loading images for France\n",
      "Loading images for United Kingdom\n",
      "Loading images for India\n",
      "Loading images for Pakistan\n",
      "Loading images for Israel\n",
      "Loading images for North Korea\n",
      "Loading images for South Africa\n",
      "Loading images for Kazkhstan\n",
      "Loading images for Ukraine\n",
      "Loading images for Belarus\n",
      "Loading images for Lithuania\n",
      "Loading images for Other\n"
     ]
    }
   ],
   "source": [
    "canvas.add_sub_plot(pie_race)"
   ]
  },
  {
   "cell_type": "code",
   "execution_count": 11,
   "id": "ab6f7141",
   "metadata": {},
   "outputs": [],
   "source": [
    "title = StaticText.static_text(canvas=canvas.canvas, text=\"Nuclear weapons by Country\", x_pos=1440/2, y_pos=75, height=60, width=0, font_color = FONT_COLOR)\n",
    "canvas.add_sub_plot(title)"
   ]
  },
  {
   "cell_type": "code",
   "execution_count": 12,
   "id": "a16a38ad",
   "metadata": {},
   "outputs": [],
   "source": [
    "time = Date.date(df=df, canvas=canvas.canvas, time_indicator=\"year\", x_pos=950, y_pos=1000, height=50, width=0, anchor=\"e\", font_color = FONT_COLOR)\n",
    "canvas.add_sub_plot(time)"
   ]
  },
  {
   "cell_type": "code",
   "execution_count": 13,
   "id": "d3ea7531",
   "metadata": {},
   "outputs": [],
   "source": [
    "img = StaticImage.static_image(canvas=canvas.canvas, file=\"assets/nuclear.png\", x_pos=1150, y_pos=800, height=100, width=100)\n",
    "canvas.add_sub_plot(img)"
   ]
  },
  {
   "cell_type": "code",
   "execution_count": null,
   "id": "72592c60",
   "metadata": {},
   "outputs": [
    {
     "name": "stdout",
     "output_type": "stream",
     "text": [
      "FPS: 1\n",
      "FPS: 57\n",
      "FPS: 60\n",
      "FPS: 60\n",
      "FPS: 60\n",
      "FPS: 34\n",
      "FPS: 59\n",
      "FPS: 58\n",
      "FPS: 60\n",
      "FPS: 35\n",
      "FPS: 59\n",
      "FPS: 60\n",
      "FPS: 58\n",
      "FPS: 59\n",
      "FPS: 59\n",
      "FPS: 57\n",
      "FPS: 56\n",
      "FPS: 57\n",
      "FPS: 58\n",
      "FPS: 59\n",
      "FPS: 59\n",
      "FPS: 58\n",
      "FPS: 58\n",
      "FPS: 56\n",
      "FPS: 55\n",
      "FPS: 50\n",
      "FPS: 59\n",
      "FPS: 59\n",
      "FPS: 59\n",
      "FPS: 58\n",
      "FPS: 60\n",
      "FPS: 59\n",
      "FPS: 59\n",
      "FPS: 57\n",
      "FPS: 58\n",
      "FPS: 59\n",
      "FPS: 51\n",
      "FPS: 44\n",
      "FPS: 49\n",
      "FPS: 59\n",
      "FPS: 57\n",
      "FPS: 58\n",
      "FPS: 59\n",
      "FPS: 57\n",
      "FPS: 59\n",
      "FPS: 58\n",
      "FPS: 57\n",
      "FPS: 60\n",
      "FPS: 59\n",
      "FPS: 57\n",
      "FPS: 55\n",
      "FPS: 58\n",
      "FPS: 60\n",
      "FPS: 57\n",
      "FPS: 60\n",
      "FPS: 59\n",
      "FPS: 58\n",
      "FPS: 59\n",
      "FPS: 59\n",
      "FPS: 59\n",
      "FPS: 57\n",
      "FPS: 44\n",
      "FPS: 57\n",
      "FPS: 58\n",
      "FPS: 59\n",
      "FPS: 57\n",
      "FPS: 58\n",
      "FPS: 58\n",
      "FPS: 58\n",
      "FPS: 56\n",
      "FPS: 57\n",
      "FPS: 60\n",
      "FPS: 59\n",
      "FPS: 59\n",
      "FPS: 59\n",
      "FPS: 54\n",
      "FPS: 48\n",
      "FPS: 54\n",
      "FPS: 58\n",
      "FPS: 59\n",
      "FPS: 58\n",
      "FPS: 58\n",
      "FPS: 53\n",
      "FPS: 53\n",
      "FPS: 52\n",
      "FPS: 57\n",
      "FPS: 52\n",
      "FPS: 55\n",
      "FPS: 54\n",
      "FPS: 59\n",
      "FPS: 60\n",
      "FPS: 60\n",
      "FPS: 53\n",
      "FPS: 15\n",
      "FPS: 21\n",
      "FPS: 33\n",
      "FPS: 47\n",
      "FPS: 57\n",
      "FPS: 60\n",
      "FPS: 58\n",
      "FPS: 60\n",
      "FPS: 59\n",
      "FPS: 59\n",
      "FPS: 58\n",
      "FPS: 57\n",
      "FPS: 59\n",
      "FPS: 59\n",
      "FPS: 57\n",
      "FPS: 59\n",
      "FPS: 59\n",
      "FPS: 60\n",
      "FPS: 58\n",
      "FPS: 49\n",
      "FPS: 59\n",
      "FPS: 59\n",
      "FPS: 57\n",
      "FPS: 59\n",
      "FPS: 57\n",
      "FPS: 58\n",
      "FPS: 59\n",
      "FPS: 58\n",
      "FPS: 57\n",
      "FPS: 59\n",
      "FPS: 59\n",
      "FPS: 60\n",
      "FPS: 59\n",
      "FPS: 59\n",
      "FPS: 58\n",
      "FPS: 57\n",
      "FPS: 58\n",
      "FPS: 56\n",
      "FPS: 58\n",
      "FPS: 59\n",
      "FPS: 58\n",
      "FPS: 58\n",
      "FPS: 58\n",
      "FPS: 59\n",
      "FPS: 58\n",
      "FPS: 57\n",
      "FPS: 57\n",
      "FPS: 59\n",
      "FPS: 50\n",
      "FPS: 60\n",
      "FPS: 59\n",
      "FPS: 56\n",
      "FPS: 42\n",
      "FPS: 54\n",
      "FPS: 58\n",
      "FPS: 53\n",
      "FPS: 58\n",
      "FPS: 27\n",
      "FPS: 55\n",
      "FPS: 52\n",
      "FPS: 58\n",
      "FPS: 59\n",
      "FPS: 58\n",
      "FPS: 58\n",
      "FPS: 57\n",
      "FPS: 57\n",
      "FPS: 60\n",
      "FPS: 58\n",
      "FPS: 58\n",
      "FPS: 58\n",
      "FPS: 57\n",
      "FPS: 56\n",
      "FPS: 59\n",
      "FPS: 59\n",
      "FPS: 41\n",
      "FPS: 18\n",
      "FPS: 37\n",
      "FPS: 57\n",
      "FPS: 59\n",
      "FPS: 59\n",
      "FPS: 57\n",
      "FPS: 59\n",
      "FPS: 58\n",
      "FPS: 56\n",
      "FPS: 49\n",
      "FPS: 56\n",
      "FPS: 51\n",
      "FPS: 57\n",
      "FPS: 60\n",
      "FPS: 57\n",
      "FPS: 56\n",
      "FPS: 58\n",
      "FPS: 59\n",
      "FPS: 59\n",
      "FPS: 59\n",
      "FPS: 52\n",
      "FPS: 53\n",
      "FPS: 47\n",
      "FPS: 52\n",
      "FPS: 54\n",
      "FPS: 59\n",
      "FPS: 57\n",
      "FPS: 58\n",
      "FPS: 58\n",
      "FPS: 57\n",
      "FPS: 58\n",
      "FPS: 60\n",
      "FPS: 59\n",
      "FPS: 57\n",
      "FPS: 57\n",
      "FPS: 57\n",
      "FPS: 56\n",
      "FPS: 52\n",
      "FPS: 53\n",
      "FPS: 55\n",
      "FPS: 47\n",
      "FPS: 58\n",
      "FPS: 57\n",
      "FPS: 59\n",
      "FPS: 57\n",
      "FPS: 60\n",
      "FPS: 57\n",
      "FPS: 49\n",
      "FPS: 57\n",
      "FPS: 58\n",
      "FPS: 59\n",
      "FPS: 58\n",
      "FPS: 60\n",
      "FPS: 59\n",
      "FPS: 57\n",
      "FPS: 59\n",
      "FPS: 57\n",
      "FPS: 59\n",
      "FPS: 57\n",
      "FPS: 60\n",
      "FPS: 60\n",
      "FPS: 56\n",
      "FPS: 60\n",
      "FPS: 57\n",
      "FPS: 59\n",
      "FPS: 59\n",
      "FPS: 57\n",
      "FPS: 58\n",
      "FPS: 57\n",
      "FPS: 60\n",
      "FPS: 58\n",
      "FPS: 59\n",
      "FPS: 50\n",
      "FPS: 59\n",
      "FPS: 59\n",
      "FPS: 58\n",
      "FPS: 57\n",
      "FPS: 57\n",
      "FPS: 59\n",
      "FPS: 59\n",
      "FPS: 57\n",
      "FPS: 57\n",
      "FPS: 59\n",
      "FPS: 57\n",
      "FPS: 59\n",
      "FPS: 59\n",
      "FPS: 57\n",
      "FPS: 57\n",
      "FPS: 59\n",
      "FPS: 57\n",
      "FPS: 60\n",
      "FPS: 57\n",
      "FPS: 57\n",
      "FPS: 57\n",
      "FPS: 57\n",
      "FPS: 60\n"
     ]
    }
   ],
   "source": [
    "canvas.play(fps=FPS)"
   ]
  },
  {
   "cell_type": "code",
   "execution_count": null,
   "id": "dbc41bcd",
   "metadata": {},
   "outputs": [],
   "source": []
  },
  {
   "cell_type": "code",
   "execution_count": null,
   "id": "cc004734",
   "metadata": {},
   "outputs": [],
   "source": []
  }
 ],
 "metadata": {
  "kernelspec": {
   "display_name": "Python 3 (ipykernel)",
   "language": "python",
   "name": "python3"
  },
  "language_info": {
   "codemirror_mode": {
    "name": "ipython",
    "version": 3
   },
   "file_extension": ".py",
   "mimetype": "text/x-python",
   "name": "python",
   "nbconvert_exporter": "python",
   "pygments_lexer": "ipython3",
   "version": "3.10.9"
  }
 },
 "nbformat": 4,
 "nbformat_minor": 5
}
